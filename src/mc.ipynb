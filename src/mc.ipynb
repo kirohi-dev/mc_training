{
 "cells": [
  {
   "cell_type": "markdown",
   "metadata": {},
   "source": [
    "## 簡単なモンテカルロ法\n",
    "\n",
    "### 扇の面積を求める\n",
    "1*1の面積が1になる確率分布において、扇の範囲に入る確率を求める\n",
    "\n"
   ]
  },
  {
   "cell_type": "code",
   "execution_count": 2,
   "metadata": {},
   "outputs": [
    {
     "name": "stdout",
     "output_type": "stream",
     "text": [
      "奥義ないにある確率は, 0.79\n"
     ]
    }
   ],
   "source": [
    "import random\n",
    "def calc_sector(niter: int):\n",
    "    # hitしたら追加していく\n",
    "    n_in = 0\n",
    "    for _ in range(niter):\n",
    "        # xとyの0から1の一様乱数を算出\n",
    "        x = random.random()\n",
    "        y = random.random()\n",
    "        # 扇内にあるか判定する\n",
    "        if (x*x + y*y < 1):\n",
    "            n_in += 1\n",
    "    print(f'奥義ないにある確率は, {n_in/niter}')\n",
    "    \n",
    "calc_sector(1000)\n",
    "\n"
   ]
  },
  {
   "cell_type": "markdown",
   "metadata": {},
   "source": [
    "## 一様乱数を用いた定積分\n",
    "ある区間a,bの間を全て足し合わせた数が定積分である。\n",
    "その区間を一様乱数を用い計算すればKが十分に大きい場合にその平均値は定積分を区間で割った数に近似する"
   ]
  },
  {
   "cell_type": "code",
   "execution_count": 3,
   "metadata": {},
   "outputs": [
    {
     "name": "stdout",
     "output_type": "stream",
     "text": [
      "奥義ないにある確率は, 0.7787420489306699\n"
     ]
    }
   ],
   "source": [
    "\n",
    "import random\n",
    "import math\n",
    "def calc_integral(niter: int):\n",
    "    # 原始関数\n",
    "    def target_func(x):\n",
    "        return math.sqrt(1-x*x)\n",
    "    # hitしたら追加していく\n",
    "    n_sum = 0\n",
    "    for _ in range(niter):\n",
    "        # xとyの0から1の一様乱数を算出\n",
    "        x = random.random()\n",
    "        # 扇内にあるか判定する\n",
    "        n_sum += target_func(x)\n",
    "    print(f'奥義ないにある確率は, {n_sum/niter}')\n",
    "    \n",
    "calc_integral(1000)\n",
    "    \n"
   ]
  },
  {
   "cell_type": "markdown",
   "metadata": {},
   "source": [
    "一様乱数を使ったmc法は無駄がおおくなる可能性がある。\n",
    "例えばガウス分布を積分する場合、計算に影響のある範囲は狭く、計算に影響のない演算を多く計算にリソースを費やすことになる可能性が高い。\n"
   ]
  }
 ],
 "metadata": {
  "interpreter": {
   "hash": "6c693b84c50bb49e55b17084229edccbb9bb25b122e60de0602ea4fd5e2541d4"
  },
  "kernelspec": {
   "display_name": "Python 3.10.2 ('venv': venv)",
   "language": "python",
   "name": "python3"
  },
  "language_info": {
   "codemirror_mode": {
    "name": "ipython",
    "version": 3
   },
   "file_extension": ".py",
   "mimetype": "text/x-python",
   "name": "python",
   "nbconvert_exporter": "python",
   "pygments_lexer": "ipython3",
   "version": "3.10.2"
  },
  "orig_nbformat": 4
 },
 "nbformat": 4,
 "nbformat_minor": 2
}
