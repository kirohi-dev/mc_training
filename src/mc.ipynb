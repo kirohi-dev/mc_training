{
 "cells": [
  {
   "cell_type": "markdown",
   "metadata": {},
   "source": [
    "## 簡単なモンテカルロ法\n",
    "\n",
    "### 扇の面積を求める\n",
    "1*1の面積が1になる確率分布において、扇の範囲に入る確率を求める\n",
    "\n"
   ]
  },
  {
   "cell_type": "code",
   "execution_count": 1,
   "metadata": {},
   "outputs": [
    {
     "name": "stdout",
     "output_type": "stream",
     "text": [
      "奥義ないにある確率は, 1.0\n"
     ]
    }
   ],
   "source": [
    "import random\n",
    "def calc_sector(niter: int):\n",
    "    # hitしたら追加していく\n",
    "    n_in = 0\n",
    "    for _ in range(niter):\n",
    "        # xとyの0から1の一様乱数を算出\n",
    "        x = random.random()\n",
    "        y = random.random()\n",
    "        # 扇内にあるか判定する\n",
    "        if (x*x + y*y < 1):\n",
    "            n_in += 1\n",
    "    print(f'奥義ないにある確率は, {n_in/niter}')\n",
    "    \n",
    "calc_sector(1000)\n",
    "\n"
   ]
  }
 ],
 "metadata": {
  "interpreter": {
   "hash": "6c693b84c50bb49e55b17084229edccbb9bb25b122e60de0602ea4fd5e2541d4"
  },
  "kernelspec": {
   "display_name": "Python 3.10.2 ('venv': venv)",
   "language": "python",
   "name": "python3"
  },
  "language_info": {
   "codemirror_mode": {
    "name": "ipython",
    "version": 3
   },
   "file_extension": ".py",
   "mimetype": "text/x-python",
   "name": "python",
   "nbconvert_exporter": "python",
   "pygments_lexer": "ipython3",
   "version": "3.10.2"
  },
  "orig_nbformat": 4
 },
 "nbformat": 4,
 "nbformat_minor": 2
}
