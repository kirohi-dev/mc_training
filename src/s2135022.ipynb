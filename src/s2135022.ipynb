{
 "cells": [
  {
   "cell_type": "markdown",
   "source": [
    "## テーマ\n",
    "\n",
    "リニアSVMとロジスティック回帰を使い二項分類において両アルゴリズムを比較する。\n",
    "\n",
    "\n",
    "## 目的\n",
    "\n",
    "リニアSVMとロジスティック回帰はともにデータを複数のカテゴリに分類することができるアルゴリズムである。\n",
    "\b両アルゴリズムにおいて、分類結果にどのような違いが生じるのかを実験を行い、\n",
    "両アルゴリズムがどのような場合に適しているのかを考察する。\n",
    "\n",
    "## データセット\n",
    "\n",
    "kaggleの[Titanic competition](https://www.kaggle.com/c/titanic/data)のデータを使用\n",
    "\n",
    "## imports"
   ],
   "metadata": {}
  },
  {
   "cell_type": "code",
   "execution_count": 83,
   "source": [
    "import pandas as pd\n",
    "from sklearn.linear_model import LogisticRegression\n",
    "from sklearn.svm import LinearSVC"
   ],
   "outputs": [],
   "metadata": {}
  },
  {
   "cell_type": "markdown",
   "source": [
    "## loading data\n",
    "\n",
    "| variable | definition |\n",
    "--- | --- \n",
    "| survival | 生存(0 = No, 1 = Yes) |\n",
    "| pclass | Ticket class(1 = 1st, 2 = 2nd, 3 = 3rd) |\n",
    "| sex | 性別 |\n",
    "| Age | 年齢 |\n",
    "| Name | 名前 |\n",
    "| sibsp | 同乗の兄弟・配偶者 |\n",
    "| parch | 同乗の親・子供 |\n",
    "| ticket | チケットID|\n",
    "| fare | 運賃 |\n",
    "| cabin | 部屋番号 |\n",
    "| embarked | 乗船港 |"
   ],
   "metadata": {}
  },
  {
   "cell_type": "code",
   "execution_count": 77,
   "source": [
    "train = pd.read_csv('./titanic/train.csv')\n",
    "print(train.head())"
   ],
   "outputs": [
    {
     "output_type": "stream",
     "name": "stdout",
     "text": [
      "   PassengerId  Survived  Pclass  \\\n",
      "0            1         0       3   \n",
      "1            2         1       1   \n",
      "2            3         1       3   \n",
      "3            4         1       1   \n",
      "4            5         0       3   \n",
      "\n",
      "                                                Name     Sex   Age  SibSp  \\\n",
      "0                            Braund, Mr. Owen Harris    male  22.0      1   \n",
      "1  Cumings, Mrs. John Bradley (Florence Briggs Th...  female  38.0      1   \n",
      "2                             Heikkinen, Miss. Laina  female  26.0      0   \n",
      "3       Futrelle, Mrs. Jacques Heath (Lily May Peel)  female  35.0      1   \n",
      "4                           Allen, Mr. William Henry    male  35.0      0   \n",
      "\n",
      "   Parch            Ticket     Fare Cabin Embarked  \n",
      "0      0         A/5 21171   7.2500   NaN        S  \n",
      "1      0          PC 17599  71.2833   C85        C  \n",
      "2      0  STON/O2. 3101282   7.9250   NaN        S  \n",
      "3      0            113803  53.1000  C123        S  \n",
      "4      0            373450   8.0500   NaN        S  \n"
     ]
    }
   ],
   "metadata": {}
  },
  {
   "cell_type": "code",
   "execution_count": 34,
   "source": [
    "print(train.info())"
   ],
   "outputs": [
    {
     "output_type": "stream",
     "name": "stdout",
     "text": [
      "<class 'pandas.core.frame.DataFrame'>\n",
      "RangeIndex: 891 entries, 0 to 890\n",
      "Data columns (total 12 columns):\n",
      " #   Column       Non-Null Count  Dtype  \n",
      "---  ------       --------------  -----  \n",
      " 0   PassengerId  891 non-null    int64  \n",
      " 1   Survived     891 non-null    int64  \n",
      " 2   Pclass       891 non-null    int64  \n",
      " 3   Name         891 non-null    object \n",
      " 4   Sex          891 non-null    object \n",
      " 5   Age          714 non-null    float64\n",
      " 6   SibSp        891 non-null    int64  \n",
      " 7   Parch        891 non-null    int64  \n",
      " 8   Ticket       891 non-null    object \n",
      " 9   Fare         891 non-null    float64\n",
      " 10  Cabin        204 non-null    object \n",
      " 11  Embarked     889 non-null    object \n",
      "dtypes: float64(2), int64(5), object(5)\n",
      "memory usage: 83.7+ KB\n",
      "None\n"
     ]
    }
   ],
   "metadata": {}
  },
  {
   "cell_type": "markdown",
   "source": [
    "## 特徴量の調査"
   ],
   "metadata": {}
  },
  {
   "cell_type": "code",
   "execution_count": 53,
   "source": [
    "print(train.isnull().any())"
   ],
   "outputs": [
    {
     "output_type": "stream",
     "name": "stdout",
     "text": [
      "PassengerId    False\n",
      "Survived       False\n",
      "Pclass         False\n",
      "Name           False\n",
      "Sex            False\n",
      "Age             True\n",
      "SibSp          False\n",
      "Parch          False\n",
      "Ticket         False\n",
      "Fare           False\n",
      "Cabin           True\n",
      "Embarked        True\n",
      "dtype: bool\n"
     ]
    }
   ],
   "metadata": {}
  },
  {
   "cell_type": "markdown",
   "source": [
    "Age,Cabin,Embarkedは欠損値が存在しているので、何かしらのデータを代入する。"
   ],
   "metadata": {}
  },
  {
   "cell_type": "code",
   "execution_count": 54,
   "source": [
    "print(train.dtypes)"
   ],
   "outputs": [
    {
     "output_type": "stream",
     "name": "stdout",
     "text": [
      "PassengerId      int64\n",
      "Survived         int64\n",
      "Pclass           int64\n",
      "Name            object\n",
      "Sex             object\n",
      "Age            float64\n",
      "SibSp            int64\n",
      "Parch            int64\n",
      "Ticket          object\n",
      "Fare           float64\n",
      "Cabin           object\n",
      "Embarked        object\n",
      "dtype: object\n"
     ]
    }
   ],
   "metadata": {}
  },
  {
   "cell_type": "markdown",
   "source": [
    "7つは整数または浮動小数点で、5つは文字列となっている。"
   ],
   "metadata": {}
  },
  {
   "cell_type": "code",
   "execution_count": 56,
   "source": [
    "# numerical\n",
    "\n",
    "numerical_train = train[['PassengerId', 'Survived', 'Pclass', 'Age', 'SibSp', 'Parch', 'Fare']]\n",
    "print(numerical_train.describe())"
   ],
   "outputs": [
    {
     "output_type": "stream",
     "name": "stdout",
     "text": [
      "       PassengerId    Survived      Pclass         Age       SibSp  \\\n",
      "count   891.000000  891.000000  891.000000  714.000000  891.000000   \n",
      "mean    446.000000    0.383838    2.308642   29.699118    0.523008   \n",
      "std     257.353842    0.486592    0.836071   14.526497    1.102743   \n",
      "min       1.000000    0.000000    1.000000    0.420000    0.000000   \n",
      "25%     223.500000    0.000000    2.000000   20.125000    0.000000   \n",
      "50%     446.000000    0.000000    3.000000   28.000000    0.000000   \n",
      "75%     668.500000    1.000000    3.000000   38.000000    1.000000   \n",
      "max     891.000000    1.000000    3.000000   80.000000    8.000000   \n",
      "\n",
      "            Parch        Fare  \n",
      "count  891.000000  891.000000  \n",
      "mean     0.381594   32.204208  \n",
      "std      0.806057   49.693429  \n",
      "min      0.000000    0.000000  \n",
      "25%      0.000000    7.910400  \n",
      "50%      0.000000   14.454200  \n",
      "75%      0.000000   31.000000  \n",
      "max      6.000000  512.329200  \n"
     ]
    }
   ],
   "metadata": {}
  },
  {
   "cell_type": "markdown",
   "source": [
    "- サンプル数は891です。\n",
    "- 生存率は38％です。\n",
    "- 25%の乗客は兄弟や配偶者と一緒でした\n",
    "- 運賃には大きな差があります"
   ],
   "metadata": {}
  },
  {
   "cell_type": "code",
   "execution_count": 60,
   "source": [
    "# object\n",
    "\n",
    "object_train = train[['Name', 'Sex', 'Ticket', 'Cabin', 'Embarked']]\n",
    "print(object_train.describe())"
   ],
   "outputs": [
    {
     "output_type": "stream",
     "name": "stdout",
     "text": [
      "                           Name   Sex  Ticket    Cabin Embarked\n",
      "count                       891   891     891      204      889\n",
      "unique                      891     2     681      147        3\n",
      "top     Braund, Mr. Owen Harris  male  347082  B96 B98        S\n",
      "freq                          1   577       7        4      644\n"
     ]
    }
   ],
   "metadata": {}
  },
  {
   "cell_type": "markdown",
   "source": [
    "- 名前は一意\n",
    "- 男性が65%\n",
    "- チケットは22%が重複している\n",
    "- 乗船港は3種類あり、ほとんどがS\n",
    "\n",
    "\n",
    "## カラムの削除\n",
    "\n",
    "- ticket: 重複率が高いので削除\n",
    "- cabin: 欠損値が多く削除\n",
    "- PassengerId: IDなので削除\n",
    "- Name: 名前が生存率に影響するとは考えにくいので削除\n"
   ],
   "metadata": {}
  },
  {
   "cell_type": "code",
   "execution_count": 78,
   "source": [
    "train = train.drop(['Ticket', 'Cabin', 'PassengerId', 'Name'], axis=1)"
   ],
   "outputs": [],
   "metadata": {}
  },
  {
   "cell_type": "markdown",
   "source": [
    "## 欠損値の穴埋め\n",
    "\n",
    "\b最頻値や平均値で穴埋めを行う"
   ],
   "metadata": {}
  },
  {
   "cell_type": "code",
   "execution_count": 79,
   "source": [
    "embarke_freq = train.Embarked.dropna().mode()[0]\n",
    "age_mean = train.Age.dropna().mean()\n",
    "\n",
    "train['Embarked'] = train['Embarked'].fillna(embarke_freq)\n",
    "train['Age'] = train['Age'].fillna(age_mean)"
   ],
   "outputs": [],
   "metadata": {}
  },
  {
   "cell_type": "markdown",
   "source": [
    "## カテゴリデータを数値に変換"
   ],
   "metadata": {}
  },
  {
   "cell_type": "code",
   "execution_count": 80,
   "source": [
    "train['Sex'] = train['Sex'].map({'female': 1, 'male': 0}).astype(int)\n",
    "train['Embarked'] = train['Embarked'].map({'S': 0, 'C': 1, 'Q': 2}).astype(int)\n",
    "print(train.head())"
   ],
   "outputs": [
    {
     "output_type": "stream",
     "name": "stdout",
     "text": [
      "   Survived  Pclass  Sex   Age  SibSp  Parch     Fare  Embarked\n",
      "0         0       3    0  22.0      1      0   7.2500         0\n",
      "1         1       1    1  38.0      1      0  71.2833         1\n",
      "2         1       3    1  26.0      0      0   7.9250         0\n",
      "3         1       1    1  35.0      1      0  53.1000         0\n",
      "4         0       3    0  35.0      0      0   8.0500         0\n"
     ]
    }
   ],
   "metadata": {}
  },
  {
   "cell_type": "markdown",
   "source": [
    "## ラベルと特徴量に分離"
   ],
   "metadata": {}
  },
  {
   "cell_type": "code",
   "execution_count": 81,
   "source": [
    "x_train = train.drop('Survived', axis=1)\n",
    "y_train = train['Survived']"
   ],
   "outputs": [],
   "metadata": {}
  },
  {
   "cell_type": "markdown",
   "source": [
    "## ロジスティクス回帰のモデル作成"
   ],
   "metadata": {}
  },
  {
   "cell_type": "code",
   "execution_count": 92,
   "source": [
    "logreg = LogisticRegression()\n",
    "logreg.fit(x_train, y_train)\n",
    "score = round(logreg.score(x_train, y_train) * 100, 2)\n",
    "print(score)\n",
    "\n",
    "coeff_df = pd.DataFrame(train.columns.delete(0))\n",
    "coeff_df.columns = ['Feature']\n",
    "coeff_df['Correlation'] = pd.Series(logreg.coef_[0])\n",
    "\n",
    "print(coeff_df.sort_values(by='Correlation', ascending=False))"
   ],
   "outputs": [
    {
     "output_type": "stream",
     "name": "stdout",
     "text": [
      "80.47\n",
      "    Feature  Correlation\n",
      "1       Sex     2.607417\n",
      "6  Embarked     0.256137\n",
      "5      Fare     0.002372\n",
      "2       Age    -0.039196\n",
      "4     Parch    -0.078888\n",
      "3     SibSp    -0.319913\n",
      "0    Pclass    -1.086917\n"
     ]
    }
   ],
   "metadata": {}
  },
  {
   "cell_type": "markdown",
   "source": [
    "## リニアSVMのモデルを作成"
   ],
   "metadata": {}
  },
  {
   "cell_type": "code",
   "execution_count": 97,
   "source": [
    "linear_svc = LinearSVC()\n",
    "linear_svc.fit(x_train, y_train)\n",
    "score_svc = round(linear_svc.score(x_train, y_train) * 100, 2)\n",
    "print(score_svc)\n",
    "\n",
    "coeff_df_svc = pd.DataFrame(train.columns.delete(0))\n",
    "coeff_df_svc.columns = ['Feature']\n",
    "coeff_df_svc['Correlation'] = pd.Series(linear_svc.coef_[0])\n",
    "\n",
    "print(coeff_df_svc.sort_values(by='Correlation', ascending=False))\n"
   ],
   "outputs": [
    {
     "output_type": "stream",
     "name": "stdout",
     "text": [
      "79.24\n",
      "    Feature  Correlation\n",
      "1       Sex     0.948564\n",
      "6  Embarked     0.127388\n",
      "4     Parch     0.047889\n",
      "5      Fare    -0.002112\n",
      "2       Age    -0.020474\n",
      "3     SibSp    -0.152121\n",
      "0    Pclass    -0.356814\n"
     ]
    },
    {
     "output_type": "stream",
     "name": "stderr",
     "text": [
      "/Users/hiroki-ikeda/my-lab/study/jaist-study-plan/.venv/lib/python3.9/site-packages/sklearn/svm/_base.py:1206: ConvergenceWarning: Liblinear failed to converge, increase the number of iterations.\n",
      "  warnings.warn(\n"
     ]
    }
   ],
   "metadata": {}
  },
  {
   "cell_type": "markdown",
   "source": [
    "## 考察\n",
    "\n",
    "ロジスティック回帰とリニアSVMを同様の教師データを元にモデルを作成した。その結果を考察する。\n",
    "両アルゴリズムのモデルの\b\b教師データの結果と推論値の正解率が大きな差は無い。\n",
    "\n",
    "各特徴量の重みについては差分がでた。\n",
    "重みを降順に並べたときに順番が違うが、他の特徴量と比べ相関の弱い特徴について差分が出ている。\n",
    "性別については両アルゴリズムでともに最も重いが、他のその重みについては大きな差が出ている。\n",
    "\n",
    "ロジスティック回帰は特徴量の中で相関の強い特徴があったときに、その特徴の重みに大きく依存するモデルとなった。\n",
    "リニアSVMは特定の特徴量に強く依存するようなモデルにはならなかった。\n",
    "\n",
    "一概に言えることではないが、特徴量が多い場合にはリニアSVMを使い、少ない場合にはロジスティック回帰を使うことでモデルを最適化できる。"
   ],
   "metadata": {}
  }
 ],
 "metadata": {
  "kernelspec": {
   "name": "python3",
   "display_name": "Python 3.9.4 64-bit ('.venv': pipenv)"
  },
  "language_info": {
   "codemirror_mode": {
    "name": "ipython",
    "version": 3
   },
   "file_extension": ".py",
   "mimetype": "text/x-python",
   "name": "python",
   "nbconvert_exporter": "python",
   "pygments_lexer": "ipython3",
   "version": "3.9.4"
  },
  "interpreter": {
   "hash": "e8358fa2060627cb769fd87af09fec43df8c5fe738bb59f4865b65fb5aec312e"
  }
 },
 "nbformat": 4,
 "nbformat_minor": 5
}